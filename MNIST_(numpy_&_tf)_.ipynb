{
  "nbformat": 4,
  "nbformat_minor": 0,
  "metadata": {
    "colab": {
      "name": "MNIST (numpy & tf) .ipynb",
      "provenance": [],
      "authorship_tag": "ABX9TyNoehfY3TQvv4ap4cDltL8Z",
      "include_colab_link": true
    },
    "kernelspec": {
      "name": "python3",
      "display_name": "Python 3"
    }
  },
  "cells": [
    {
      "cell_type": "markdown",
      "metadata": {
        "id": "view-in-github",
        "colab_type": "text"
      },
      "source": [
        "<a href=\"https://colab.research.google.com/github/suryadeepti/tf_MNIST/blob/main/MNIST_(numpy_%26_tf)_.ipynb\" target=\"_parent\"><img src=\"https://colab.research.google.com/assets/colab-badge.svg\" alt=\"Open In Colab\"/></a>"
      ]
    },
    {
      "cell_type": "code",
      "metadata": {
        "id": "0QHuoz7qo2OT",
        "colab": {
          "base_uri": "https://localhost:8080/"
        },
        "outputId": "52000c9d-69b2-4546-c4b8-03720c2b88dc"
      },
      "source": [
        "import numpy as np \r\n",
        "import matplotlib.pyplot as plt \r\n",
        "import tensorflow as tf \r\n",
        "  \r\n",
        "learn = tf.contrib.learn \r\n",
        "  \r\n",
        "tf.logging.set_verbosity(tf.logging.ERROR) "
      ],
      "execution_count": null,
      "outputs": [
        {
          "output_type": "stream",
          "text": [
            "WARNING:tensorflow:\n",
            "The TensorFlow contrib module will not be included in TensorFlow 2.0.\n",
            "For more information, please see:\n",
            "  * https://github.com/tensorflow/community/blob/master/rfcs/20180907-contrib-sunset.md\n",
            "  * https://github.com/tensorflow/addons\n",
            "  * https://github.com/tensorflow/io (for I/O related ops)\n",
            "If you depend on functionality not listed there, please file an issue.\n",
            "\n"
          ],
          "name": "stdout"
        }
      ]
    },
    {
      "cell_type": "code",
      "metadata": {
        "id": "2u1tAx8IpjoG",
        "colab": {
          "base_uri": "https://localhost:8080/"
        },
        "outputId": "a9dd7ea0-1ccd-444c-ac81-125cd35321ac"
      },
      "source": [
        "mnist = learn.datasets.load_dataset('mnist') \r\n",
        "data = mnist.train.images \r\n",
        "labels = np.asarray(mnist.train.labels, dtype=np.int32) \r\n",
        "test_data = mnist.test.images \r\n",
        "test_labels = np.asarray(mnist.test.labels, dtype=np.int32)"
      ],
      "execution_count": null,
      "outputs": [
        {
          "output_type": "stream",
          "text": [
            "Successfully downloaded train-images-idx3-ubyte.gz 9912422 bytes.\n",
            "Extracting MNIST-data/train-images-idx3-ubyte.gz\n",
            "Successfully downloaded train-labels-idx1-ubyte.gz 28881 bytes.\n",
            "Extracting MNIST-data/train-labels-idx1-ubyte.gz\n",
            "Successfully downloaded t10k-images-idx3-ubyte.gz 1648877 bytes.\n",
            "Extracting MNIST-data/t10k-images-idx3-ubyte.gz\n",
            "Successfully downloaded t10k-labels-idx1-ubyte.gz 4542 bytes.\n",
            "Extracting MNIST-data/t10k-labels-idx1-ubyte.gz\n"
          ],
          "name": "stdout"
        }
      ]
    },
    {
      "cell_type": "code",
      "metadata": {
        "id": "DA6wb-vIplhD"
      },
      "source": [
        "max_examples = 10000\r\n",
        "data = data[:max_examples] \r\n",
        "labels = labels[:max_examples]"
      ],
      "execution_count": null,
      "outputs": []
    },
    {
      "cell_type": "code",
      "metadata": {
        "colab": {
          "base_uri": "https://localhost:8080/",
          "height": 281
        },
        "id": "whOx0ujJb-Mf",
        "outputId": "85bc1f6f-1e2f-42fd-e25f-f2e85f18b7b3"
      },
      "source": [
        "def display(i): \r\n",
        "    img = test_data[i] \r\n",
        "    plt.title('label : {}'.format(test_labels[i])) \r\n",
        "    plt.imshow(img.reshape((28, 28))) \r\n",
        "      \r\n",
        "# image in TensorFlow is 28 by 28 px  //You can take any\r\n",
        "display(2) "
      ],
      "execution_count": null,
      "outputs": [
        {
          "output_type": "display_data",
          "data": {
            "image/png": "[encoded data removed]",
            "text/plain": [
              "<Figure size 432x288 with 1 Axes>"
            ]
          },
          "metadata": {
            "tags": [],
            "needs_background": "light"
          }
        }
      ]
    },
    {
      "cell_type": "code",
      "metadata": {
        "colab": {
          "base_uri": "https://localhost:8080/"
        },
        "id": "nJp_Fkv8cERh",
        "outputId": "61ce9c88-1b5d-4689-8e6d-a2de7a070e18"
      },
      "source": [
        "feature_columns = learn.infer_real_valued_columns_from_input(data) \r\n",
        "classifier = learn.LinearClassifier(n_classes=10,  \r\n",
        "                                    feature_columns=feature_columns) \r\n",
        "classifier.fit(data, labels, batch_size=100, steps=1000) \r\n",
        "\\"
      ],
      "execution_count": null,
      "outputs": [
        {
          "output_type": "execute_result",
          "data": {
            "text/plain": [
              "LinearClassifier(params={'head': <tensorflow.contrib.learn.python.learn.estimators.head._MultiClassHead object at 0x7efe918b58d0>, 'feature_columns': [_RealValuedColumn(column_name='', dimension=784, default_value=None, dtype=tf.float32, normalizer=None)], 'optimizer': None, 'gradient_clip_norm': None, 'joint_weights': False})"
            ]
          },
          "metadata": {
            "tags": []
          },
          "execution_count": 8
        }
      ]
    },
    {
      "cell_type": "code",
      "metadata": {
        "colab": {
          "base_uri": "https://localhost:8080/"
        },
        "id": "UuKc82RDcUdh",
        "outputId": "9cc65811-8795-4081-8238-5e56f8c7b65b"
      },
      "source": [
        "classifier.evaluate(test_data, test_labels) \r\n",
        "print(classifier.evaluate(test_data, test_labels)[\"accuracy\"]) "
      ],
      "execution_count": null,
      "outputs": [
        {
          "output_type": "stream",
          "text": [
            "0.9137\n"
          ],
          "name": "stdout"
        }
      ]
    },
    {
      "cell_type": "code",
      "metadata": {
        "colab": {
          "base_uri": "https://localhost:8080/"
        },
        "id": "e7eK1Xw1cgaL",
        "outputId": "21a64cf1-ecae-4216-f808-f01a433ee647"
      },
      "source": [
        "prediction = classifier.predict(np.array([test_data[2]],  \r\n",
        "                                         dtype=float),  \r\n",
        "                                         as_iterable=False) \r\n",
        "print(\"prediction : {}, label : {}\".format(prediction,  \r\n",
        "      test_labels[0]) )"
      ],
      "execution_count": null,
      "outputs": [
        {
          "output_type": "stream",
          "text": [
            "prediction : [1], label : 7\n"
          ],
          "name": "stdout"
        }
      ]
    },
    {
      "cell_type": "code",
      "metadata": {
        "id": "GCQ-5LUNckLw"
      },
      "source": [
        "########################################## TF training using Keras  ##############################################################3"
      ],
      "execution_count": null,
      "outputs": []
    },
    {
      "cell_type": "code",
      "metadata": {
        "colab": {
          "base_uri": "https://localhost:8080/"
        },
        "id": "lZq1UnfLdepB",
        "outputId": "23932ddb-d520-46ae-aa00-7dfe5e715420"
      },
      "source": [
        "mnist = tf.keras.datasets.mnist \r\n",
        "(x_train,y_train) , (x_test,y_test) = mnist.load_data() \r\n",
        "  \r\n",
        "x_train = tf.keras.utils.normalize(x_train,axis=1) \r\n",
        "x_test = tf.keras.utils.normalize(x_test,axis=1)"
      ],
      "execution_count": null,
      "outputs": [
        {
          "output_type": "stream",
          "text": [
            "Downloading data from https://storage.googleapis.com/tensorflow/tf-keras-datasets/mnist.npz\n",
            "11493376/11490434 [==============================] - 0s 0us/step\n"
          ],
          "name": "stdout"
        }
      ]
    },
    {
      "cell_type": "code",
      "metadata": {
        "colab": {
          "base_uri": "https://localhost:8080/",
          "height": 265
        },
        "id": "49qTKV3sdjYh",
        "outputId": "8e100037-54b0-44bf-ac7e-4edd36d6fe26"
      },
      "source": [
        "def draw(n): \r\n",
        "    plt.imshow(n,cmap=plt.cm.binary) \r\n",
        "    plt.show()  \r\n",
        "      \r\n",
        "draw(x_train[2]) "
      ],
      "execution_count": null,
      "outputs": [
        {
          "output_type": "display_data",
          "data": {
            "image/png": "[encoded data removed]",
            "text/plain": [
              "<Figure size 432x288 with 1 Axes>"
            ]
          },
          "metadata": {
            "tags": [],
            "needs_background": "light"
          }
        }
      ]
    },
    {
      "cell_type": "code",
      "metadata": {
        "colab": {
          "base_uri": "https://localhost:8080/"
        },
        "id": "lMAplLMJdoqA",
        "outputId": "b3493e4b-a8a9-49f6-f1d1-ae0d57ac5a2a"
      },
      "source": [
        "#there are two types of models \r\n",
        "#sequential is most common, why? \r\n",
        "  \r\n",
        "model = tf.keras.models.Sequential() \r\n",
        "  \r\n",
        "model.add(tf.keras.layers.Flatten(input_shape=(28, 28))) \r\n",
        "#reshape \r\n",
        "  \r\n",
        "model.add(tf.keras.layers.Dense(128,activation=tf.nn.relu)) \r\n",
        "model.add(tf.keras.layers.Dense(128,activation=tf.nn.relu)) \r\n",
        "model.add(tf.keras.layers.Dense(10,activation=tf.nn.softmax)) \r\n",
        "  \r\n",
        "model.compile(optimizer='adam', \r\n",
        "              loss='sparse_categorical_crossentropy', \r\n",
        "              metrics=['accuracy'] \r\n",
        "              ) \r\n",
        "model.fit(x_train,y_train,epochs=5)"
      ],
      "execution_count": null,
      "outputs": [
        {
          "output_type": "stream",
          "text": [
            "Train on 60000 samples\n",
            "Epoch 1/5\n",
            "60000/60000 [==============================] - 5s 78us/sample - loss: 0.2677 - acc: 0.9225\n",
            "Epoch 2/5\n",
            "60000/60000 [==============================] - 5s 78us/sample - loss: 0.1087 - acc: 0.9662\n",
            "Epoch 3/5\n",
            "60000/60000 [==============================] - 5s 79us/sample - loss: 0.0738 - acc: 0.9767\n",
            "Epoch 4/5\n",
            "60000/60000 [==============================] - 5s 80us/sample - loss: 0.0535 - acc: 0.9829\n",
            "Epoch 5/5\n",
            "60000/60000 [==============================] - 5s 79us/sample - loss: 0.0408 - acc: 0.9868\n"
          ],
          "name": "stdout"
        },
        {
          "output_type": "execute_result",
          "data": {
            "text/plain": [
              "<tensorflow.python.keras.callbacks.History at 0x7efe917c6438>"
            ]
          },
          "metadata": {
            "tags": []
          },
          "execution_count": 16
        }
      ]
    },
    {
      "cell_type": "code",
      "metadata": {
        "colab": {
          "base_uri": "https://localhost:8080/"
        },
        "id": "01rXq1t4dueZ",
        "outputId": "dba53eb9-5cbd-4b65-8107-bdd3c744a0ef"
      },
      "source": [
        "val_loss,val_acc = model.evaluate(x_test,y_test) \r\n",
        "print(\"loss-> \",val_loss,\"\\nacc-> \",val_acc) "
      ],
      "execution_count": null,
      "outputs": [
        {
          "output_type": "stream",
          "text": [
            "10000/10000 [==============================] - 0s 40us/sample - loss: 0.0841 - acc: 0.9759\n",
            "loss->  0.08408725895970129 \n",
            "acc->  0.9759\n"
          ],
          "name": "stdout"
        }
      ]
    },
    {
      "cell_type": "code",
      "metadata": {
        "colab": {
          "base_uri": "https://localhost:8080/",
          "height": 298
        },
        "id": "aSz47t8Ed05m",
        "outputId": "c92d9403-1ef9-49a4-c4fa-50ab05e8cb93"
      },
      "source": [
        "predictions=model.predict([x_test]) \r\n",
        "print('lable -> ',y_test[2]) \r\n",
        "print('prediction -> ',np.argmax(predictions[2])) \r\n",
        "  \r\n",
        "draw(x_test[2])"
      ],
      "execution_count": null,
      "outputs": [
        {
          "output_type": "stream",
          "text": [
            "lable ->  1\n",
            "prediction ->  1\n"
          ],
          "name": "stdout"
        },
        {
          "output_type": "display_data",
          "data": {
            "image/png": "[encoded data removed]",
            "text/plain": [
              "<Figure size 432x288 with 1 Axes>"
            ]
          },
          "metadata": {
            "tags": [],
            "needs_background": "light"
          }
        }
      ]
    },
    {
      "cell_type": "code",
      "metadata": {
        "id": "qeP_qc-teF7A"
      },
      "source": [
        "model.save('epic_num_reader.h5') "
      ],
      "execution_count": null,
      "outputs": []
    },
    {
      "cell_type": "code",
      "metadata": {
        "id": "HWMVFbEseLNY"
      },
      "source": [
        "new_model = tf.keras.models.load_model('epic_num_reader.h5') \r\n"
      ],
      "execution_count": null,
      "outputs": []
    },
    {
      "cell_type": "code",
      "metadata": {
        "colab": {
          "base_uri": "https://localhost:8080/",
          "height": 298
        },
        "id": "BUqDtdfpeOjx",
        "outputId": "93e444ab-d9c8-4f7a-a115-6ff58abcd0c3"
      },
      "source": [
        "predictions=new_model.predict([x_test]) \r\n",
        "print('lable -> ',y_test[2]) \r\n",
        "print('prediction -> ',np.argmax(predictions[2])) \r\n",
        "\r\n",
        "draw(x_test[2]) "
      ],
      "execution_count": null,
      "outputs": [
        {
          "output_type": "stream",
          "text": [
            "lable ->  1\n",
            "prediction ->  1\n"
          ],
          "name": "stdout"
        },
        {
          "output_type": "display_data",
          "data": {
            "image/png": "[encoded data removed]",
            "text/plain": [
              "<Figure size 432x288 with 1 Axes>"
            ]
          },
          "metadata": {
            "tags": [],
            "needs_background": "light"
          }
        }
      ]
    },
    {
      "cell_type": "code",
      "metadata": {
        "id": "R1Sh8Ln4eSLn"
      },
      "source": [
        ""
      ],
      "execution_count": null,
      "outputs": []
    }
  ]
}